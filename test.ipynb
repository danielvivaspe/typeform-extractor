{
 "cells": [
  {
   "cell_type": "markdown",
   "source": [
    "# TypeformExtractor use example\n",
    "\n",
    "AUTHORS: Daniel Vivas and Julia Martínez Tapia"
   ],
   "metadata": {
    "collapsed": false,
    "pycharm": {
     "name": "#%% md\n"
    }
   }
  },
  {
   "cell_type": "markdown",
   "source": [
    "Import the class"
   ],
   "metadata": {
    "collapsed": false,
    "pycharm": {
     "name": "#%% md\n"
    }
   }
  },
  {
   "cell_type": "code",
   "execution_count": 1,
   "outputs": [],
   "source": [
    "from TypeformExtractor import TypeformExtractor"
   ],
   "metadata": {
    "collapsed": false,
    "pycharm": {
     "name": "#%%\n"
    }
   }
  },
  {
   "cell_type": "markdown",
   "source": [
    "Set credentials"
   ],
   "metadata": {
    "collapsed": false,
    "pycharm": {
     "name": "#%% md\n"
    }
   }
  },
  {
   "cell_type": "code",
   "execution_count": 2,
   "outputs": [],
   "source": [
    "credentials = {\n",
    "    'aws_public_key': 'Your aws public key',\n",
    "    'aws_private_key': 'Your aws private key',\n",
    "    'typeform_token': 'Your typeform token'\n",
    "}"
   ],
   "metadata": {
    "collapsed": false,
    "pycharm": {
     "name": "#%%\n"
    }
   }
  },
  {
   "cell_type": "markdown",
   "source": [],
   "metadata": {
    "collapsed": false,
    "pycharm": {
     "name": "#%% md\n"
    }
   }
  },
  {
   "cell_type": "markdown",
   "source": [
    "Create TypeformExtractor object"
   ],
   "metadata": {
    "collapsed": false,
    "pycharm": {
     "name": "#%% md\n"
    }
   }
  },
  {
   "cell_type": "code",
   "execution_count": 3,
   "outputs": [],
   "source": [
    "#Optional parameters - Only credentials is required\n",
    "page_size = 500\n",
    "field_prefix = 'field_'\n",
    "debug = False\n",
    "\n",
    "extractor = TypeformExtractor(credentials=credentials, page_size=page_size, field_prefix=field_prefix, debug=debug)"
   ],
   "metadata": {
    "collapsed": false,
    "pycharm": {
     "name": "#%%\n"
    }
   }
  },
  {
   "cell_type": "markdown",
   "source": [
    "Call method extract"
   ],
   "metadata": {
    "collapsed": false,
    "pycharm": {
     "name": "#%% md\n"
    }
   }
  },
  {
   "cell_type": "code",
   "execution_count": null,
   "outputs": [],
   "source": [
    "form_id = 'Your_form_id'\n",
    "field_names = {\n",
    "    'old_field_name_1': \"new_field_name_1\",\n",
    "    'old_field_name_2': \"new_field_name_2\",\n",
    "    'old_field_name_3': \"new_field_name_3\"\n",
    "}\n",
    "sentiment = ['old_field_name_1', 'old_field_name_3']\n",
    "fixed_fields = {\n",
    "    'Fixed_column_name': 'Fixed_value'\n",
    "}\n",
    "auto_translate = True\n",
    "\n",
    "extractor.extract(form_id=form_id, field_names=field_names, sentiment=sentiment, fixed_fields=fixed_fields,\n",
    "                         auto_translate=auto_translate)\n",
    "\n",
    "data = extractor.dataframe()"
   ],
   "metadata": {
    "collapsed": false,
    "pycharm": {
     "name": "#%%\n"
    }
   }
  },
  {
   "cell_type": "markdown",
   "source": [
    "That's it! Check the data"
   ],
   "metadata": {
    "collapsed": false,
    "pycharm": {
     "name": "#%% md\n"
    }
   }
  },
  {
   "cell_type": "code",
   "execution_count": null,
   "outputs": [],
   "source": [
    "data"
   ],
   "metadata": {
    "collapsed": false,
    "pycharm": {
     "name": "#%%\n",
     "is_executing": true
    }
   }
  },
  {
   "cell_type": "markdown",
   "source": [
    "### Helper methods"
   ],
   "metadata": {
    "collapsed": false,
    "pycharm": {
     "name": "#%% md\n"
    }
   }
  },
  {
   "cell_type": "markdown",
   "source": [
    "By default, the class will use the question titles as column names. If you want to change that, you can retrieve the diccionary used to change column names, edit it, and then pass it to the extract method:"
   ],
   "metadata": {
    "collapsed": false,
    "pycharm": {
     "name": "#%% md\n"
    }
   }
  },
  {
   "cell_type": "code",
   "execution_count": null,
   "outputs": [],
   "source": [
    "form_id = 'Your_form_id'\n",
    "\n",
    "column_names = extractor.get_field_names(form_id=form_id)"
   ],
   "metadata": {
    "collapsed": false,
    "pycharm": {
     "name": "#%%\n"
    }
   }
  },
  {
   "cell_type": "markdown",
   "source": [
    "## Metric calculation\n",
    "\n",
    "Before the extract call, you can add metrics which will be calculated automatically with a formula:"
   ],
   "metadata": {
    "collapsed": false,
    "pycharm": {
     "name": "#%% md\n"
    }
   }
  },
  {
   "cell_type": "code",
   "execution_count": null,
   "outputs": [],
   "source": [
    "extractor.add_metric(name='Metric_name', formula=\"(Age+Years_experience)/2\")"
   ],
   "metadata": {
    "collapsed": false,
    "pycharm": {
     "name": "#%%\n"
    }
   }
  },
  {
   "cell_type": "markdown",
   "source": [
    "However, there are some rules you must follow in order to parse the formula succesfully:\n",
    "- Do not use comma (,) as decimal separator, use dot (.)\n",
    "- Try to avoid special characters on Typeform question names\n",
    "- Duplicated column names will not work with metric calculation.\n",
    "- Column names in metric formula must be writen exactly as they are in the dataframe, without any spaces, extra characters ore new lines in the middle."
   ],
   "metadata": {
    "collapsed": false,
    "pycharm": {
     "name": "#%% md\n"
    }
   }
  },
  {
   "cell_type": "markdown",
   "source": [
    "If you want to test your formulas before adding them to the script, you can do it. You will need need a csv with all the data previously extracted:"
   ],
   "metadata": {
    "collapsed": false,
    "pycharm": {
     "name": "#%% md\n"
    }
   }
  },
  {
   "cell_type": "code",
   "execution_count": null,
   "outputs": [],
   "source": [
    "#nrow is used if you want to test the formula with a specific row\n",
    "\n",
    "extractor.test_formula(formula=\"(Age+Years_experience)/2\", csv_path=\"C:/Users/User/Projects/my_csv.csv\", nrow=None)"
   ],
   "metadata": {
    "collapsed": false,
    "pycharm": {
     "name": "#%%\n"
    }
   }
  },
  {
   "cell_type": "markdown",
   "source": [
    "¿Do you want to know which functions are supported?"
   ],
   "metadata": {
    "collapsed": false,
    "pycharm": {
     "name": "#%% md\n"
    }
   }
  },
  {
   "cell_type": "code",
   "execution_count": null,
   "outputs": [],
   "source": [
    "functions = extractor.supported_functions(lang='en')\n",
    "print(functions)\n",
    "\n",
    "functions = extractor.supported_functions(lang='es')\n",
    "print(functions)"
   ],
   "metadata": {
    "collapsed": false,
    "pycharm": {
     "name": "#%%\n"
    }
   }
  }
 ],
 "metadata": {
  "kernelspec": {
   "display_name": "Python 3",
   "language": "python",
   "name": "python3"
  },
  "language_info": {
   "codemirror_mode": {
    "name": "ipython",
    "version": 2
   },
   "file_extension": ".py",
   "mimetype": "text/x-python",
   "name": "python",
   "nbconvert_exporter": "python",
   "pygments_lexer": "ipython2",
   "version": "2.7.6"
  }
 },
 "nbformat": 4,
 "nbformat_minor": 0
}