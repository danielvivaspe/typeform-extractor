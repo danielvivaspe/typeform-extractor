{
 "cells": [
  {
   "cell_type": "markdown",
   "source": [
    "# TypeformExtractor use example\n",
    "\n",
    "AUTHORS: Daniel Vivas and Julia Martínez Tapia"
   ],
   "metadata": {
    "collapsed": false,
    "pycharm": {
     "name": "#%% md\n"
    }
   }
  },
  {
   "cell_type": "markdown",
   "source": [
    "Import the class"
   ],
   "metadata": {
    "collapsed": false,
    "pycharm": {
     "name": "#%% md\n"
    }
   }
  },
  {
   "cell_type": "code",
   "execution_count": 1,
   "outputs": [],
   "source": [
    "from TypeformExtractor import TypeformExtractor"
   ],
   "metadata": {
    "collapsed": false,
    "pycharm": {
     "name": "#%%\n"
    }
   }
  },
  {
   "cell_type": "markdown",
   "source": [
    "Set credentials"
   ],
   "metadata": {
    "collapsed": false,
    "pycharm": {
     "name": "#%% md\n"
    }
   }
  },
  {
   "cell_type": "code",
   "execution_count": 2,
   "outputs": [],
   "source": [
    "credentials = {\n",
    "        'aws_public_key': 'Your aws public key',\n",
    "        'aws_private_key': 'Your aws private key',\n",
    "        'typeform_token': 'Your typeform token'\n",
    "    }"
   ],
   "metadata": {
    "collapsed": false,
    "pycharm": {
     "name": "#%%\n"
    }
   }
  },
  {
   "cell_type": "markdown",
   "source": [],
   "metadata": {
    "collapsed": false,
    "pycharm": {
     "name": "#%% md\n"
    }
   }
  },
  {
   "cell_type": "markdown",
   "source": [
    "Create TypeformExtractor object"
   ],
   "metadata": {
    "collapsed": false,
    "pycharm": {
     "name": "#%% md\n"
    }
   }
  },
  {
   "cell_type": "code",
   "execution_count": 3,
   "outputs": [],
   "source": [
    "#Optional parameters - Only credentials is required\n",
    "page_size = 500\n",
    "field_prefix = 'field_'\n",
    "debug = False\n",
    "\n",
    "extractor = TypeformExtractor(credentials=credentials, page_size=page_size, field_prefix=field_prefix, debug=debug)"
   ],
   "metadata": {
    "collapsed": false,
    "pycharm": {
     "name": "#%%\n"
    }
   }
  },
  {
   "cell_type": "markdown",
   "source": [
    "Call method extract"
   ],
   "metadata": {
    "collapsed": false,
    "pycharm": {
     "name": "#%% md\n"
    }
   }
  },
  {
   "cell_type": "code",
   "execution_count": null,
   "outputs": [],
   "source": [
    "form_id = 'Your_form_id'\n",
    "field_names = {\n",
    "    'old_field_name_1': \"new_field_name_1\",\n",
    "    'old_field_name_2': \"new_field_name_2\",\n",
    "    'old_field_name_3': \"new_field_name_3\"\n",
    "}\n",
    "sentiment = ['old_field_name_1', 'old_field_name_3']\n",
    "fixed_fields = {\n",
    "    'Fixed_column_name': 'Fixed_value'\n",
    "}\n",
    "\n",
    "data = extractor.extract(form_id = form_id, field_names = field_names, sentiment = sentiment, fixed_fields = fixed_fields)"
   ],
   "metadata": {
    "collapsed": false,
    "pycharm": {
     "name": "#%%\n"
    }
   }
  },
  {
   "cell_type": "markdown",
   "source": [
    "That's it! Check the data"
   ],
   "metadata": {
    "collapsed": false,
    "pycharm": {
     "name": "#%% md\n"
    }
   }
  },
  {
   "cell_type": "code",
   "execution_count": null,
   "outputs": [],
   "source": [
    "data"
   ],
   "metadata": {
    "collapsed": false,
    "pycharm": {
     "name": "#%%\n",
     "is_executing": true
    }
   }
  }
 ],
 "metadata": {
  "kernelspec": {
   "display_name": "Python 3",
   "language": "python",
   "name": "python3"
  },
  "language_info": {
   "codemirror_mode": {
    "name": "ipython",
    "version": 2
   },
   "file_extension": ".py",
   "mimetype": "text/x-python",
   "name": "python",
   "nbconvert_exporter": "python",
   "pygments_lexer": "ipython2",
   "version": "2.7.6"
  }
 },
 "nbformat": 4,
 "nbformat_minor": 0
}